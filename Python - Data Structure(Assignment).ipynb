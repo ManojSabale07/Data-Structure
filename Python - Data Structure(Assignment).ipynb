{
 "cells": [
  {
   "cell_type": "raw",
   "id": "8c23aaf0-b0d9-43f3-ac75-088f540e90fc",
   "metadata": {},
   "source": [
    "Q1] What are data structure and why are they important?\n",
    "Ans : Data structure is a way of organising and storing data such that it can accessed and manipulated efficiently.\n",
    "      Types - String, List, tuple, set, array, dictionaries.\n",
    "\n",
    "Q2] Explain the diffrence between mutable and immutable data types with examples?\n",
    "Ans : Mutable data types -:\n",
    "      Abilty of object's/data type's to be modified after they have been created.\n",
    "      Example's - list, set, dictionaries.\n",
    "      Immutable data type -:\n",
    "      Inability of object's/data type's to be modified after they have been created.\n",
    "      Example's - String's, tuple's.\n"
   ]
  },
  {
   "cell_type": "code",
   "execution_count": null,
   "id": "48dd7ccc-ff7a-46fb-bf16-c6ebeac8a2ee",
   "metadata": {},
   "outputs": [],
   "source": []
  },
  {
   "cell_type": "raw",
   "id": "6017212e-25a4-4659-a650-b0a14871043d",
   "metadata": {},
   "source": [
    "Q3] What are main diffrence between list's and tuple's in python?\n",
    "Ans : List's -:\n",
    "      1] Mutable\n",
    "      2] Stored using [].\n",
    "      3] elements can be added using list_name.append and can be removed using list_name.remove.\n",
    "      Tuple's -: \n",
    "      1] Immutable\n",
    "      2] stored using ().\n",
    "      3] elements can neither be added nor be removed"
   ]
  },
  {
   "cell_type": "raw",
   "id": "141613ba-74fd-4bff-bf4f-dc3b80a11eb7",
   "metadata": {},
   "source": [
    "                                                                    LIST's"
   ]
  },
  {
   "cell_type": "code",
   "execution_count": 127,
   "id": "7f86ac6a-d840-406c-bf83-a1f59f5f2351",
   "metadata": {},
   "outputs": [
    {
     "data": {
      "text/plain": [
       "[10, 52.31, 'pwsills', 'Data Scince', (5+9j)]"
      ]
     },
     "execution_count": 127,
     "metadata": {},
     "output_type": "execute_result"
    }
   ],
   "source": [
    "l = [10, 52.31, \"pwsills\", \"Data Scince\", 5 + 9j]\n",
    "l"
   ]
  },
  {
   "cell_type": "code",
   "execution_count": 22,
   "id": "6eb83b2b-256f-479c-9529-b813ed37f184",
   "metadata": {},
   "outputs": [
    {
     "data": {
      "text/plain": [
       "list"
      ]
     },
     "execution_count": 22,
     "metadata": {},
     "output_type": "execute_result"
    }
   ],
   "source": [
    "type(l)"
   ]
  },
  {
   "cell_type": "code",
   "execution_count": 6,
   "id": "e94b7e9a-732e-4ea5-b54c-016aff861cd1",
   "metadata": {},
   "outputs": [
    {
     "data": {
      "text/plain": [
       "[10, 52.31, 'pwsills', 'Data Scince', (5+9j), 'Artificial Intelligence']"
      ]
     },
     "execution_count": 6,
     "metadata": {},
     "output_type": "execute_result"
    }
   ],
   "source": [
    "l = [10, 52.31, \"pwsills\", \"Data Scince\", 5 + 9j]\n",
    "l.append(\"Artificial Intelligence\")\n",
    "l"
   ]
  },
  {
   "cell_type": "code",
   "execution_count": 12,
   "id": "3d562e2e-be69-4150-a1f9-c04bff3db91d",
   "metadata": {},
   "outputs": [
    {
     "data": {
      "text/plain": [
       "[10, 52.31, 'pwsills', (5+9j)]"
      ]
     },
     "execution_count": 12,
     "metadata": {},
     "output_type": "execute_result"
    }
   ],
   "source": [
    "l = [10, 52.31, \"pwsills\", \"Data Science\", 5 + 9j]\n",
    "l.remove(\"Data Science\")\n",
    "l"
   ]
  },
  {
   "cell_type": "raw",
   "id": "9e7bd280-6450-49f3-b081-93c8918ace3b",
   "metadata": {},
   "source": [
    "                                                                        TUPLE's"
   ]
  },
  {
   "cell_type": "code",
   "execution_count": 14,
   "id": "b94e79ce-f753-4ac6-877c-069cfc797e60",
   "metadata": {},
   "outputs": [
    {
     "data": {
      "text/plain": [
       "(10, 52.31, 'pwsills', 'Data Scince', (5+9j))"
      ]
     },
     "execution_count": 14,
     "metadata": {},
     "output_type": "execute_result"
    }
   ],
   "source": [
    "t = (10, 52.31, \"pwsills\", \"Data Scince\", 5 + 9j)\n",
    "t"
   ]
  },
  {
   "cell_type": "code",
   "execution_count": 24,
   "id": "c7660ba8-c2e3-4d24-9949-c548dbe2bd36",
   "metadata": {},
   "outputs": [
    {
     "data": {
      "text/plain": [
       "tuple"
      ]
     },
     "execution_count": 24,
     "metadata": {},
     "output_type": "execute_result"
    }
   ],
   "source": [
    "type(t)"
   ]
  },
  {
   "cell_type": "code",
   "execution_count": 18,
   "id": "db0fc970-99b3-4770-b5f9-1515ef83c0e1",
   "metadata": {},
   "outputs": [
    {
     "ename": "AttributeError",
     "evalue": "'tuple' object has no attribute 'append'",
     "output_type": "error",
     "traceback": [
      "\u001b[1;31m---------------------------------------------------------------------------\u001b[0m",
      "\u001b[1;31mAttributeError\u001b[0m                            Traceback (most recent call last)",
      "Cell \u001b[1;32mIn[18], line 1\u001b[0m\n\u001b[1;32m----> 1\u001b[0m t\u001b[38;5;241m.\u001b[39mappend(\u001b[38;5;124m\"\u001b[39m\u001b[38;5;124mArtificial Intelligence\u001b[39m\u001b[38;5;124m\"\u001b[39m)\n\u001b[0;32m      2\u001b[0m t\n",
      "\u001b[1;31mAttributeError\u001b[0m: 'tuple' object has no attribute 'append'"
     ]
    }
   ],
   "source": [
    "t.append(\"Artificial Intelligence\")\n",
    "t"
   ]
  },
  {
   "cell_type": "code",
   "execution_count": 20,
   "id": "79dcd822-a2dc-4464-b58d-30998ae6fd84",
   "metadata": {},
   "outputs": [
    {
     "ename": "AttributeError",
     "evalue": "'tuple' object has no attribute 'remove'",
     "output_type": "error",
     "traceback": [
      "\u001b[1;31m---------------------------------------------------------------------------\u001b[0m",
      "\u001b[1;31mAttributeError\u001b[0m                            Traceback (most recent call last)",
      "Cell \u001b[1;32mIn[20], line 1\u001b[0m\n\u001b[1;32m----> 1\u001b[0m t\u001b[38;5;241m.\u001b[39mremove(\u001b[38;5;124m\"\u001b[39m\u001b[38;5;124mData Science\u001b[39m\u001b[38;5;124m\"\u001b[39m)\n\u001b[0;32m      2\u001b[0m t\n",
      "\u001b[1;31mAttributeError\u001b[0m: 'tuple' object has no attribute 'remove'"
     ]
    }
   ],
   "source": [
    "t.remove(\"Data Science\")\n",
    "t"
   ]
  },
  {
   "cell_type": "code",
   "execution_count": null,
   "id": "f5a2d393-2b2d-473b-af93-d8297f187e1d",
   "metadata": {},
   "outputs": [],
   "source": []
  },
  {
   "cell_type": "raw",
   "id": "43f5e11a-ce7f-4a71-95a3-d251853ca4dc",
   "metadata": {},
   "source": [
    "Q4] Describe how dictionaries store data?\n",
    "Ans : Data in dictionaries is stored using a key-value pairs.\n",
    "      Syntax -> dict_name = {key : value}\n",
    "      Provides faster access to the data."
   ]
  },
  {
   "cell_type": "code",
   "execution_count": 38,
   "id": "bfeb950e-4da9-4bff-8a83-f3d702bf34a8",
   "metadata": {},
   "outputs": [
    {
     "name": "stdout",
     "output_type": "stream",
     "text": [
      "Name : Manoj Anil Sabale\n"
     ]
    }
   ],
   "source": [
    "students_data = { \"name\" : \"Manoj Anil Sabale\", \"age\" : 19, \"branch\" : \"AI&DS\"}\n",
    "print(\"Name :\", students_data[\"name\"])"
   ]
  },
  {
   "cell_type": "code",
   "execution_count": 34,
   "id": "c661ab3d-78e1-46bf-aeaf-11a999e48034",
   "metadata": {},
   "outputs": [
    {
     "name": "stdout",
     "output_type": "stream",
     "text": [
      "Age : 19\n"
     ]
    }
   ],
   "source": [
    "print(\"Age :\", students_data[\"age\"])"
   ]
  },
  {
   "cell_type": "code",
   "execution_count": 40,
   "id": "2d4e4f5b-abd1-4d96-b7d9-169ac2190be0",
   "metadata": {},
   "outputs": [
    {
     "name": "stdout",
     "output_type": "stream",
     "text": [
      "Branch : AI&DS\n"
     ]
    }
   ],
   "source": [
    "print(\"Branch :\", students_data[\"branch\"])"
   ]
  },
  {
   "cell_type": "code",
   "execution_count": null,
   "id": "bc6e0306-9b21-4629-8994-33639f0ffb10",
   "metadata": {},
   "outputs": [],
   "source": []
  },
  {
   "cell_type": "raw",
   "id": "c11abb06-df15-4268-8706-e77e7c588b07",
   "metadata": {},
   "source": [
    "Q5] Why might you use a set instead of a list in Python?\n",
    "Ans : Use of set instead of list due to the uniqueness that set provides.\n",
    "      uniqueness means no duplicates are stored in the set where as in list duplicate are stored."
   ]
  },
  {
   "cell_type": "code",
   "execution_count": 44,
   "id": "bcc8c162-a6ac-48ca-a678-46dcef75b557",
   "metadata": {},
   "outputs": [
    {
     "data": {
      "text/plain": [
       "[2, 4, 8, 2, 2, 4, 10, 8, 10, 18, 8, 4, 2, 18]"
      ]
     },
     "execution_count": 44,
     "metadata": {},
     "output_type": "execute_result"
    }
   ],
   "source": [
    "# LIST - Repeated/Duplicate elements are printed as it is in list.\n",
    "l = [2, 4, 8, 2, 2, 4, 10, 8, 10, 18, 8, 4, 2, 18]\n",
    "l"
   ]
  },
  {
   "cell_type": "code",
   "execution_count": 46,
   "id": "5ae05e1b-4252-414d-9bb6-66612f43a7cc",
   "metadata": {},
   "outputs": [
    {
     "data": {
      "text/plain": [
       "{2, 4, 8, 10, 18}"
      ]
     },
     "execution_count": 46,
     "metadata": {},
     "output_type": "execute_result"
    }
   ],
   "source": [
    "# SET - Repeated/Duplicate elements are not printed/stored in set.\n",
    "s = {2, 4, 8, 2, 2, 4, 10, 8, 10, 18, 8, 4, 2, 18}\n",
    "s"
   ]
  },
  {
   "cell_type": "code",
   "execution_count": null,
   "id": "6a926d4e-c619-466d-a2a3-3382fd690849",
   "metadata": {},
   "outputs": [],
   "source": []
  },
  {
   "cell_type": "raw",
   "id": "d303d074-a1c5-4676-9b94-2dc40d0da500",
   "metadata": {},
   "source": [
    "Q6] What is a string in Python, and how is it different from a list?\n",
    "Ans : String -: Sequnce of characters used for representing and manipulating textual data.\n",
    "      1] Strings are immutable whereas list are mutable\n",
    "      2] Strings are used for storing textual data whereas list are used for stroing collection of data.\n",
    "      3] String's contains character's whereas list's can store elements of any data type."
   ]
  },
  {
   "cell_type": "code",
   "execution_count": 48,
   "id": "ba386599-0abb-49f6-924e-bd3a712a02be",
   "metadata": {},
   "outputs": [
    {
     "data": {
      "text/plain": [
       "'Cristiano Ronaldo'"
      ]
     },
     "execution_count": 48,
     "metadata": {},
     "output_type": "execute_result"
    }
   ],
   "source": [
    "name = \"Cristiano Ronaldo\"\n",
    "name"
   ]
  },
  {
   "cell_type": "code",
   "execution_count": 50,
   "id": "da487600-ac62-4493-a9c8-7ecfc3ee1f86",
   "metadata": {},
   "outputs": [
    {
     "data": {
      "text/plain": [
       "str"
      ]
     },
     "execution_count": 50,
     "metadata": {},
     "output_type": "execute_result"
    }
   ],
   "source": [
    "type(name)"
   ]
  },
  {
   "cell_type": "code",
   "execution_count": 54,
   "id": "fc830ba0-b7b9-4ea1-9f91-33d9872e663b",
   "metadata": {},
   "outputs": [
    {
     "data": {
      "text/plain": [
       "['Cristiano Ronaldo', 'Red devil', 'El bicho', 7, 'Mr UCL']"
      ]
     },
     "execution_count": 54,
     "metadata": {},
     "output_type": "execute_result"
    }
   ],
   "source": [
    "a = [\"Cristiano Ronaldo\", \"Red devil\", \"El bicho\", 7, \"Mr UCL\"]\n",
    "a"
   ]
  },
  {
   "cell_type": "code",
   "execution_count": 56,
   "id": "72be1608-9ce0-430a-b1ad-e0d10e46a611",
   "metadata": {},
   "outputs": [
    {
     "data": {
      "text/plain": [
       "list"
      ]
     },
     "execution_count": 56,
     "metadata": {},
     "output_type": "execute_result"
    }
   ],
   "source": [
    "type(a)"
   ]
  },
  {
   "cell_type": "raw",
   "id": "b47ee43f-4a73-429c-81b4-e90ec6428205",
   "metadata": {},
   "source": [
    "Q7] How do tuples ensure data integrity in Python?\n",
    "Ans : Tuples ensure data integrity in Python by being 'immutable', meaning their elements cannot be modified after creation. \n",
    "      This prevents accidental changes, making tuples ideal for storing fixed, constant, or unchangeable data."
   ]
  },
  {
   "cell_type": "raw",
   "id": "5b53d8dd-3887-44b5-85c9-b64367a7472b",
   "metadata": {},
   "source": [
    "Q8] What is a hash table, and how does it relate to dictionaries in Python?\n",
    "Ans : A hash table is a data structure that maps keys to values using a hash function, which computes a unique index for each key. \n",
    "      This allows for efficient operations like insertion, deletion, and searching with an average time complexity of O(1).  \n",
    "      In Python, dictionaries are implemented as hash tables.\n",
    "      Keys in a dictionary are hashed to determine where their corresponding values are stored in memory. \n",
    "      This makes dictionaries highly efficient for storing and retrieving data based on unique keys. \n",
    "      However, only immutable types (like strings, numbers, or tuples) can be used as dictionary keys to ensure consistent hashing."
   ]
  },
  {
   "cell_type": "raw",
   "id": "62452714-1ba6-4a02-ba27-508bf4e48d84",
   "metadata": {},
   "source": [
    "Q9] Can lists contain different data types in Python?\n",
    "Ans : Yes, List can contain diffrent data type."
   ]
  },
  {
   "cell_type": "code",
   "execution_count": 1,
   "id": "7506619d-48fe-4f4d-ab75-3231ffd49d9d",
   "metadata": {},
   "outputs": [
    {
     "data": {
      "text/plain": [
       "[12, (24+32j), 48.568, 'pwskills', True]"
      ]
     },
     "execution_count": 1,
     "metadata": {},
     "output_type": "execute_result"
    }
   ],
   "source": [
    "l = [12, 24+32j, 48.568, \"pwskills\", True]\n",
    "l "
   ]
  },
  {
   "cell_type": "code",
   "execution_count": 3,
   "id": "ca03f6f9-201b-49a6-8460-8b0cdb87b932",
   "metadata": {},
   "outputs": [
    {
     "data": {
      "text/plain": [
       "list"
      ]
     },
     "execution_count": 3,
     "metadata": {},
     "output_type": "execute_result"
    }
   ],
   "source": [
    "type(l)"
   ]
  },
  {
   "cell_type": "raw",
   "id": "2b3e9cd8-b33e-4325-8b0b-9063d17762e0",
   "metadata": {},
   "source": [
    "Q10] Explain why strings are immutable in Python?\n",
    "Ans : Strings are immutable in Python to enhance security, consistency, and performance. \n",
    "      Immutability ensures strings cannot be altered after creation, which prevents bugs caused by accidental changes, allows safe sharing of string          instances, and optimizes memory usage.\n",
    "      It also supports hashability, enabling strings to be used as dictionary keys or set elements."
   ]
  },
  {
   "cell_type": "code",
   "execution_count": 5,
   "id": "48c36da8-730c-451e-8b86-020c5fda9689",
   "metadata": {},
   "outputs": [
    {
     "data": {
      "text/plain": [
       "'pwskills'"
      ]
     },
     "execution_count": 5,
     "metadata": {},
     "output_type": "execute_result"
    }
   ],
   "source": [
    "string = \"pwskills\"\n",
    "string"
   ]
  },
  {
   "cell_type": "code",
   "execution_count": 7,
   "id": "0253b582-c699-42e8-bab2-04b419ddf7ee",
   "metadata": {},
   "outputs": [
    {
     "data": {
      "text/plain": [
       "'s'"
      ]
     },
     "execution_count": 7,
     "metadata": {},
     "output_type": "execute_result"
    }
   ],
   "source": [
    "string[2] "
   ]
  },
  {
   "cell_type": "code",
   "execution_count": 13,
   "id": "310facc0-bdc1-4d97-bdc0-119ca39a89a4",
   "metadata": {},
   "outputs": [
    {
     "ename": "TypeError",
     "evalue": "'str' object does not support item assignment",
     "output_type": "error",
     "traceback": [
      "\u001b[1;31m---------------------------------------------------------------------------\u001b[0m",
      "\u001b[1;31mTypeError\u001b[0m                                 Traceback (most recent call last)",
      "Cell \u001b[1;32mIn[13], line 1\u001b[0m\n\u001b[1;32m----> 1\u001b[0m string[\u001b[38;5;241m2\u001b[39m] \u001b[38;5;241m=\u001b[39m \u001b[38;5;124m\"\u001b[39m\u001b[38;5;124mk\u001b[39m\u001b[38;5;124m\"\u001b[39m\n\u001b[0;32m      2\u001b[0m string\n",
      "\u001b[1;31mTypeError\u001b[0m: 'str' object does not support item assignment"
     ]
    }
   ],
   "source": [
    "string[2] = \"k\" #IMMUTABILITY\n",
    "string"
   ]
  },
  {
   "cell_type": "raw",
   "id": "209aaea0-4987-4598-b4ef-80dedd3ec297",
   "metadata": {},
   "source": [
    "Q11] What advantages do dictionaries offer over lists for certain tasks?\n",
    "Ans : 1] Key-Value Pair Storage: Dictionaries allow data to be organized with descriptive keys, making data more readable and accessible compared to list     indices.\n",
    "      2] Uniqueness of Keys: Keys in a dictionary are unique, ensuring no duplicate identifiers.\n",
    "      3] Fast Searching: Dictionaries provide O(1) average time complexity for retrieving values by keys, whereas lists require O(n) for searching               elements."
   ]
  },
  {
   "cell_type": "raw",
   "id": "508fe622-a7a0-45fa-b43d-7ec153c8ec2f",
   "metadata": {},
   "source": [
    "Q12] Describe a scenario where using a tuple would be preferable over a list?\n",
    "Ans : Using a tuple is preferable over a list when the data should remain unchanged and is used as a constant.\n",
    "      For storing students records of a school/college or employee records of a company/MNC's."
   ]
  },
  {
   "cell_type": "raw",
   "id": "d903bad1-dfa4-4741-b86f-a6b39e25ac02",
   "metadata": {},
   "source": [
    "Q13] How do sets handle duplicate values in Python? \n",
    "Ans : In Python, sets automatically eliminate duplicate values. \n",
    "      When you add elements to a set, only unique values are stored. \n",
    "      If a duplicate is encountered, it is ignored. This is because sets are based on hashing, and each value in a set must have a unique hash."
   ]
  },
  {
   "cell_type": "code",
   "execution_count": 15,
   "id": "fd6427ef-ee7a-4f45-8b57-31aaf513cc2d",
   "metadata": {},
   "outputs": [
    {
     "data": {
      "text/plain": [
       "{1, 2, 3, 4, 5, 6, 7, 8}"
      ]
     },
     "execution_count": 15,
     "metadata": {},
     "output_type": "execute_result"
    }
   ],
   "source": [
    "s = {1, 2, 5, 7, 2, 8, 4, 6, 7, 1, 3, 5, 1, 2, 5, 7, 8, 3}\n",
    "s"
   ]
  },
  {
   "cell_type": "raw",
   "id": "246cf01a-0e57-42cc-94dc-99d90635c771",
   "metadata": {},
   "source": [
    "Q14]  How does the “in” keyword work differently for lists and dictionaries?\n",
    "Ans : The in keyword works differently for lists and dictionaries in the following ways:\n",
    "      For Lists:\n",
    "      1] Checks if an element exists in the list.\n",
    "      2] Time Complexity: O(n) (linear search).\n",
    "      For Dictionaries:\n",
    "      1] Checks if a key exists in the dictionary (not values).\n",
    "      2] Time Complexity: O(1) (due to hashing)."
   ]
  },
  {
   "cell_type": "raw",
   "id": "8a38e858-a190-4b79-9e36-ffb003469458",
   "metadata": {},
   "source": [
    "Q15]  Can you modify the elements of a tuple? Explain why or why not?\n",
    "Ans : Tuple's are immutable that is, they cannot be modified after they have been created.\n",
    "      Immutabilty provides data integrity that is, data remains consistent and protected.\n",
    "      It also provides better memeory optimization."
   ]
  },
  {
   "cell_type": "code",
   "execution_count": 21,
   "id": "c5244b21-99e4-4a3c-9068-48ee17e4d1cf",
   "metadata": {},
   "outputs": [
    {
     "data": {
      "text/plain": [
       "('pwskills', 123456789, 1234.987654, (65+862j))"
      ]
     },
     "execution_count": 21,
     "metadata": {},
     "output_type": "execute_result"
    }
   ],
   "source": [
    "t = (\"pwskills\", 123456789, 1234.987654, 65+862j)\n",
    "t"
   ]
  },
  {
   "cell_type": "code",
   "execution_count": 23,
   "id": "0a2d44bf-a48b-4afa-9f80-6bd64e2deb62",
   "metadata": {},
   "outputs": [
    {
     "data": {
      "text/plain": [
       "123456789"
      ]
     },
     "execution_count": 23,
     "metadata": {},
     "output_type": "execute_result"
    }
   ],
   "source": [
    "t[1] "
   ]
  },
  {
   "cell_type": "code",
   "execution_count": 25,
   "id": "96fcb915-4e2e-41e6-956a-f846eb44ffaf",
   "metadata": {},
   "outputs": [
    {
     "ename": "TypeError",
     "evalue": "'tuple' object does not support item assignment",
     "output_type": "error",
     "traceback": [
      "\u001b[1;31m---------------------------------------------------------------------------\u001b[0m",
      "\u001b[1;31mTypeError\u001b[0m                                 Traceback (most recent call last)",
      "Cell \u001b[1;32mIn[25], line 1\u001b[0m\n\u001b[1;32m----> 1\u001b[0m t[\u001b[38;5;241m1\u001b[39m] \u001b[38;5;241m=\u001b[39m \u001b[38;5;124m\"\u001b[39m\u001b[38;5;124mData Science\u001b[39m\u001b[38;5;124m\"\u001b[39m \n\u001b[0;32m      2\u001b[0m t\n",
      "\u001b[1;31mTypeError\u001b[0m: 'tuple' object does not support item assignment"
     ]
    }
   ],
   "source": [
    "t[1] = \"Data Science\" #Data within tuple cannot be modified\n",
    "t"
   ]
  },
  {
   "cell_type": "raw",
   "id": "5ef56a7e-e9b2-480f-9b5d-37ff585224a3",
   "metadata": {},
   "source": [
    "Q16] What is a nested dictionary, and give an example of its use case?\n",
    "Ans : A nested dictionary is useful when you need to represent data with multiple levels or categories, such as a database or organizational structure."
   ]
  },
  {
   "cell_type": "code",
   "execution_count": 27,
   "id": "7bdfc573-67a7-42fa-9f68-35c1fce91e82",
   "metadata": {},
   "outputs": [
    {
     "name": "stdout",
     "output_type": "stream",
     "text": [
      "['Alice', 'Bob']\n",
      "Eve\n"
     ]
    }
   ],
   "source": [
    "# Nested dictionary representing a company with departments and employees\n",
    "company = {\n",
    "    \"HR\": {\n",
    "        \"employees\": [\"Alice\", \"Bob\"],\n",
    "        \"manager\": \"John\"\n",
    "    },\n",
    "    \"IT\": {\n",
    "        \"employees\": [\"Charlie\", \"David\"],\n",
    "        \"manager\": \"Eve\"\n",
    "    }\n",
    "}\n",
    "\n",
    "print(company[\"HR\"][\"employees\"])  # Output: ['Alice', 'Bob']\n",
    "print(company[\"IT\"][\"manager\"])    # Output: Eve\n"
   ]
  },
  {
   "cell_type": "raw",
   "id": "b09dcea5-7341-4eda-905b-bf49e4dc0d99",
   "metadata": {},
   "source": [
    "Q17]  Describe the time complexity of accessing elements in a dictionary?\n",
    "Ans : The time complexity of accessing elements in a dictionary in Python is O(1) on average, which means that accessing a value using a key is               constant time.\n",
    "      Python dictionaries use a hash table internally. When you access a value using a key, Python computes the hash of the key and directly accesses         the corresponding value in memory.\n",
    "      This direct search means the time taken does not depend on the size of the dictionary, leading to constant time complexity."
   ]
  },
  {
   "cell_type": "raw",
   "id": "b8283ae1-158f-4d00-9f0d-3907c929ea6f",
   "metadata": {},
   "source": [
    "Q18] In what situations are lists preferred over dictionaries?\n",
    "Ans : Lists are preferred over dictionaries in the following situations:\n",
    "      1] Ordered Data: When you need to maintain the order of elements and index-based access.\n",
    "      2] When Elements Are Indexed by Position: If you need to access elements using integer indices, lists are more appropriate.\n",
    "      3] When You Don’t Need Keys: If you don’t need a key-value relationship and just need to store a collection of items, lists are sufficient and             more straightforward.\n",
    "      4] Homogeneous Data: When the data is of the same type and you don’t need key-value pairs, lists are simpler and more efficient."
   ]
  },
  {
   "cell_type": "raw",
   "id": "da6d194c-dc07-44fb-8385-fdb804b9e2bd",
   "metadata": {},
   "source": [
    "Q19] Why are dictionaries considered unordered, and how does that affect data retrieval?\n",
    "Ans : Dictionaries in Python are considered unordered because, before Python 3.7, the order of key-value pairs in a dictionary was not guaranteed.            However, starting with Python 3.7, dictionaries maintain the insertion order of elements, but this order is not inherently part of their                structure.\n",
    "      Effect on Data Retrieval:\n",
    "      Efficient Lookups: Despite being unordered, dictionaries allow constant-time average complexity (O(1)) for data retrieval via keys. The key's           hash value determines the position in memory, allowing for fast access regardless of the order.\n",
    "      No Guarantee of Order for Operations: Although insertion order is preserved, relying on order in dictionary operations (like iteration) can lead        to unexpected behavior in earlier Python versions. In versions 3.7 and later, the order is consistent during iteration, but dictionaries are            primarily designed for quick lookups by key, not ordered data storage."
   ]
  },
  {
   "cell_type": "raw",
   "id": "84ccb20c-3691-40ec-932b-73fe2156885f",
   "metadata": {},
   "source": [
    "Q20] Explain the difference between a list and a dictionary in terms of data retrieval?\n",
    "Ans : List:\n",
    "      Access Method: Data in a list is retrieved using indices (position-based access).\n",
    "      Time Complexity: O(1) for accessing an element by index, assuming you know the position of the item.\n",
    "      Data Structure: Lists store data in a sequential order, where each element has a specific index (starting from 0).\n",
    "      Use Case: Best suited for ordered collections where data retrieval is based on the position of elements.\n",
    "\n",
    "      Dictionary:\n",
    "      Access Method: Data in a dictionary is retrieved using keys (key-based access).\n",
    "      Time Complexity: O(1) on average for retrieving a value by its key due to efficient hashing.\n",
    "      Data Structure: Dictionaries store data as key-value pairs, and access is based on the key rather than the order or position.\n",
    "      Use Case: Best suited for scenarios where you need to associate specific keys with values and perform fast searching."
   ]
  },
  {
   "cell_type": "code",
   "execution_count": null,
   "id": "bc3bf0f6-6b19-45f0-aed5-b2afd3c9f34b",
   "metadata": {},
   "outputs": [],
   "source": []
  },
  {
   "cell_type": "code",
   "execution_count": 87,
   "id": "50cc67b2-5dae-4efa-9ab7-fa32da9be5cf",
   "metadata": {},
   "outputs": [
    {
     "name": "stdout",
     "output_type": "stream",
     "text": [
      "String -: Manoj Anil Sabale\n"
     ]
    }
   ],
   "source": [
    "# Q1] Write a code to create a string with your name and print it?\n",
    "name = \"Manoj Anil Sabale\"\n",
    "print(\"String -:\", name)"
   ]
  },
  {
   "cell_type": "code",
   "execution_count": 81,
   "id": "be3678b8-4421-4b79-9e2b-14027410c3ca",
   "metadata": {},
   "outputs": [
    {
     "data": {
      "text/plain": [
       "str"
      ]
     },
     "execution_count": 81,
     "metadata": {},
     "output_type": "execute_result"
    }
   ],
   "source": [
    "type(name)"
   ]
  },
  {
   "cell_type": "code",
   "execution_count": 3,
   "id": "86afc422-ab8a-435f-ae03-5da74aa5a022",
   "metadata": {},
   "outputs": [
    {
     "data": {
      "text/plain": [
       "17"
      ]
     },
     "execution_count": 3,
     "metadata": {},
     "output_type": "execute_result"
    }
   ],
   "source": [
    "# Q2] Write a code to find the length of the string \"Hello World\"\n",
    "len(name)"
   ]
  },
  {
   "cell_type": "code",
   "execution_count": 25,
   "id": "29c675de-9f5a-4823-93f9-4d2da4109801",
   "metadata": {},
   "outputs": [
    {
     "data": {
      "text/plain": [
       "'Pyt'"
      ]
     },
     "execution_count": 25,
     "metadata": {},
     "output_type": "execute_result"
    }
   ],
   "source": [
    "#Q3]  Write a code to slice the first 3 characters from the string \"Python Programming\"?\n",
    "string = \"Python Programming\"\n",
    "string[0:3]\n",
    "\n",
    "#Syntax for slicing : String_name[Start_index : End_index]"
   ]
  },
  {
   "cell_type": "code",
   "execution_count": 17,
   "id": "bc299d04-ff72-48ea-ac67-5f490b47f9d8",
   "metadata": {},
   "outputs": [
    {
     "data": {
      "text/plain": [
       "'I like orange'"
      ]
     },
     "execution_count": 17,
     "metadata": {},
     "output_type": "execute_result"
    }
   ],
   "source": [
    "#Q5] Write a code to replace the word \"apple\" with \"orange\" in the string \"I like apple\"?\n",
    "string = \"I like apple\"\n",
    "string.replace(\"apple\", \"orange\")\n"
   ]
  },
  {
   "cell_type": "code",
   "execution_count": 89,
   "id": "20b6f15b-0086-44b9-8877-fd84fb71d758",
   "metadata": {},
   "outputs": [
    {
     "name": "stdout",
     "output_type": "stream",
     "text": [
      "List -: [1, 2, 3, 4, 5]\n"
     ]
    }
   ],
   "source": [
    "#Q6] Write a code to create a list with numbers 1 to 5 and print it?\n",
    "a = [1, 2, 3, 4, 5]\n",
    "print(\"List -:\", a)"
   ]
  },
  {
   "cell_type": "code",
   "execution_count": 79,
   "id": "c29e5380-a4d2-4c9d-8ec3-3d952570adca",
   "metadata": {},
   "outputs": [
    {
     "data": {
      "text/plain": [
       "list"
      ]
     },
     "execution_count": 79,
     "metadata": {},
     "output_type": "execute_result"
    }
   ],
   "source": [
    "type(a)"
   ]
  },
  {
   "cell_type": "code",
   "execution_count": 27,
   "id": "eb7c55a2-dd8c-46b2-b6fd-ecc6bf938870",
   "metadata": {},
   "outputs": [
    {
     "data": {
      "text/plain": [
       "[1, 2, 3, 4, 10]"
      ]
     },
     "execution_count": 27,
     "metadata": {},
     "output_type": "execute_result"
    }
   ],
   "source": [
    "#Q7] Write a code to append the number 10 to the list [1, 2, 3, 4]?\n",
    "b = [1, 2, 3, 4]\n",
    "b.append(10)\n",
    "b"
   ]
  },
  {
   "cell_type": "code",
   "execution_count": 31,
   "id": "73b4d08d-bfd7-4224-b8ab-8457d807cd1a",
   "metadata": {},
   "outputs": [
    {
     "data": {
      "text/plain": [
       "[1, 2, 4, 5]"
      ]
     },
     "execution_count": 31,
     "metadata": {},
     "output_type": "execute_result"
    }
   ],
   "source": [
    "#Q8] Write a code to remove the number 3 from the list [1, 2, 3, 4, 5]?\n",
    "a = [1, 2, 3, 4, 5]\n",
    "a.remove(3)\n",
    "a"
   ]
  },
  {
   "cell_type": "code",
   "execution_count": 39,
   "id": "991aabc0-1de1-421e-a069-855a740071ca",
   "metadata": {},
   "outputs": [
    {
     "data": {
      "text/plain": [
       "'b'"
      ]
     },
     "execution_count": 39,
     "metadata": {},
     "output_type": "execute_result"
    }
   ],
   "source": [
    "#Q9] Write a code to access the second element in the list ['a', 'b', 'c', 'd']?\n",
    "c = ['a', 'b', 'c', 'd']\n",
    "c[-3]"
   ]
  },
  {
   "cell_type": "code",
   "execution_count": 41,
   "id": "405e00f1-29e2-42fb-95fe-3de1175e42fb",
   "metadata": {},
   "outputs": [
    {
     "data": {
      "text/plain": [
       "'b'"
      ]
     },
     "execution_count": 41,
     "metadata": {},
     "output_type": "execute_result"
    }
   ],
   "source": [
    "c[1]"
   ]
  },
  {
   "cell_type": "code",
   "execution_count": 43,
   "id": "42655bf3-7379-4666-af8c-941a3ce8ad5f",
   "metadata": {},
   "outputs": [
    {
     "data": {
      "text/plain": [
       "[50, 40, 30, 20, 10]"
      ]
     },
     "execution_count": 43,
     "metadata": {},
     "output_type": "execute_result"
    }
   ],
   "source": [
    "# Q10] Write a code to reverse the list [10, 20, 30, 40, 50]?\n",
    "List = [10, 20, 30, 40, 50]\n",
    "List[::-1]"
   ]
  },
  {
   "cell_type": "code",
   "execution_count": 91,
   "id": "40e2bff9-5a88-45d3-a75b-36e8cc405836",
   "metadata": {},
   "outputs": [
    {
     "name": "stdout",
     "output_type": "stream",
     "text": [
      "Tuple -: (10, 20, 30)\n"
     ]
    }
   ],
   "source": [
    "# Q11] Write a code to create a tuple with the elements 10, 20, 30 and print it?\n",
    "x = (10, 20, 30)\n",
    "print(\"Tuple -:\", x)"
   ]
  },
  {
   "cell_type": "code",
   "execution_count": 3,
   "id": "efa03ea3-2522-4795-b5a2-06645daf1fa3",
   "metadata": {},
   "outputs": [
    {
     "data": {
      "text/plain": [
       "tuple"
      ]
     },
     "execution_count": 3,
     "metadata": {},
     "output_type": "execute_result"
    }
   ],
   "source": [
    "type(x)"
   ]
  },
  {
   "cell_type": "code",
   "execution_count": 5,
   "id": "31f15ae9-8a16-4d46-a393-d424f8be090f",
   "metadata": {},
   "outputs": [
    {
     "data": {
      "text/plain": [
       "'apple'"
      ]
     },
     "execution_count": 5,
     "metadata": {},
     "output_type": "execute_result"
    }
   ],
   "source": [
    "# Q12] Write a code to access the first element of the tuple ('apple', 'banana', 'cherry')?\n",
    "x = ('apple', 'banana', 'cherry')\n",
    "x[0]"
   ]
  },
  {
   "cell_type": "code",
   "execution_count": 11,
   "id": "cf061947-b9c9-434b-9292-1dc8540669aa",
   "metadata": {},
   "outputs": [
    {
     "name": "stdout",
     "output_type": "stream",
     "text": [
      "3\n"
     ]
    }
   ],
   "source": [
    "# Q13] Write a code to count how many times the number 2 appears in the tuple (1, 2, 3, 2, 4, 2)?\n",
    "x = (1, 2, 3, 2, 4, 2)\n",
    "count = 0\n",
    "for i in x:\n",
    "    if i == 2:\n",
    "        count += 1\n",
    "print(count)"
   ]
  },
  {
   "cell_type": "code",
   "execution_count": 111,
   "id": "c8d0e5e0-38f9-4a1e-a592-b1629e455dae",
   "metadata": {},
   "outputs": [
    {
     "name": "stdout",
     "output_type": "stream",
     "text": [
      "\n"
     ]
    }
   ],
   "source": [
    "# Q14] Write a code to find the index of the element \"cat\" in the tuple ('dog', 'cat', 'rabbit')?\n",
    "x = ('dog','cat','rabbit')\n",
    "for i in x:\n",
    "    if (i == \"cat\"):\n",
    "        print()"
   ]
  },
  {
   "cell_type": "code",
   "execution_count": 63,
   "id": "201bbe1f-b115-4708-ba5b-c4638ee77d40",
   "metadata": {},
   "outputs": [
    {
     "name": "stdout",
     "output_type": "stream",
     "text": [
      "'banana' is present in the tuple\n"
     ]
    }
   ],
   "source": [
    "# Q15] Write a code to check if the element \"banana\" is in the tuple ('apple', 'orange', 'banana')?\n",
    "x = ('apple', 'orange', 'banana')\n",
    "for i in x:\n",
    "    if(i == 'banana'):\n",
    "        print(\"'banana' is present in the tuple\")\n",
    "        break\n",
    "else: \n",
    "    print(\"'banana' is not present in the tuple\")\n",
    "\n",
    "        "
   ]
  },
  {
   "cell_type": "code",
   "execution_count": 117,
   "id": "efc3a352-d115-4806-a583-1963c6921381",
   "metadata": {},
   "outputs": [
    {
     "name": "stdout",
     "output_type": "stream",
     "text": [
      "'banana' is not present in the tuple\n"
     ]
    }
   ],
   "source": [
    "x = ('apple', 'orange', 'mango') #CASE 2: when the asked element is not present in the tuple.\n",
    "for i in x:\n",
    "    if(i == ''):\n",
    "        print(\"'banana' is present in the tuple\")\n",
    "        break\n",
    "else: \n",
    "    print(\"'banana' is not present in the tuple\")"
   ]
  },
  {
   "cell_type": "code",
   "execution_count": 85,
   "id": "e3a10d59-eb3d-42be-84d2-a47ed5f12b01",
   "metadata": {},
   "outputs": [
    {
     "name": "stdout",
     "output_type": "stream",
     "text": [
      "Set -: {1, 2, 3, 4, 5}\n"
     ]
    }
   ],
   "source": [
    "# Q16] Write a code to create a set with the elements 1, 2, 3, 4, 5 and print it?\n",
    "s = {1, 2, 3, 4, 5}\n",
    "print(\"Set -:\", s)"
   ]
  },
  {
   "cell_type": "code",
   "execution_count": 67,
   "id": "7a29e830-4bde-4ee4-a51f-57a5082aca12",
   "metadata": {},
   "outputs": [
    {
     "data": {
      "text/plain": [
       "set"
      ]
     },
     "execution_count": 67,
     "metadata": {},
     "output_type": "execute_result"
    }
   ],
   "source": [
    "type(s)"
   ]
  },
  {
   "cell_type": "code",
   "execution_count": 97,
   "id": "633e7dd7-6be5-406b-8a18-d239f35f40e3",
   "metadata": {},
   "outputs": [
    {
     "data": {
      "text/plain": [
       "{1, 2, 3, 4, 6}"
      ]
     },
     "execution_count": 97,
     "metadata": {},
     "output_type": "execute_result"
    }
   ],
   "source": [
    "# Q17] Write a code to add the element 6 to the set {1, 2, 3, 4}?\n",
    "s = {1, 2, 3, 4}\n",
    "s.add(6)\n",
    "s"
   ]
  },
  {
   "cell_type": "raw",
   "id": "d9728d9c-6292-417a-b0fd-fc972ebe532a",
   "metadata": {},
   "source": [
    "                                       NOTE:QUESTION NUMBER 18, 19, 20, 21, 22, 23, 24 ARE REPEATED "
   ]
  },
  {
   "cell_type": "code",
   "execution_count": 99,
   "id": "0940e1b1-30a8-442a-bb44-b7deaa0be7b7",
   "metadata": {},
   "outputs": [
    {
     "name": "stdout",
     "output_type": "stream",
     "text": [
      "Tuple -: (10, 20, 30)\n"
     ]
    }
   ],
   "source": [
    "# Q18] Write a code to create a tuple with the elements 10, 20, 30 and print it?\n",
    "x = (10, 20, 30)\n",
    "print(\"Tuple -:\", x)"
   ]
  },
  {
   "cell_type": "code",
   "execution_count": 101,
   "id": "3bf6fd80-5933-4fd7-895e-8ccfb3b04fd9",
   "metadata": {},
   "outputs": [
    {
     "data": {
      "text/plain": [
       "tuple"
      ]
     },
     "execution_count": 101,
     "metadata": {},
     "output_type": "execute_result"
    }
   ],
   "source": [
    "type(x) "
   ]
  },
  {
   "cell_type": "code",
   "execution_count": 125,
   "id": "7141d763-f21e-438d-838b-94a4c89f88f7",
   "metadata": {},
   "outputs": [
    {
     "data": {
      "text/plain": [
       "'apple'"
      ]
     },
     "execution_count": 125,
     "metadata": {},
     "output_type": "execute_result"
    }
   ],
   "source": [
    "# Q19] Write a code to access the first element of the tuple ('apple', 'banana', 'cherry')?\n",
    "x = ('apple', 'banana', 'cherry')\n",
    "x[-3]"
   ]
  },
  {
   "cell_type": "code",
   "execution_count": 107,
   "id": "b8b3c19e-c893-434b-aec8-b0e55aa6a0b7",
   "metadata": {},
   "outputs": [
    {
     "name": "stdout",
     "output_type": "stream",
     "text": [
      "3\n"
     ]
    }
   ],
   "source": [
    "# Q20] Write a code to count how many times the number 2 appears in the tuple (1, 2, 3, 2, 4, 2)?\n",
    "x = (1, 2, 3, 2, 4, 2)\n",
    "count = 0\n",
    "for i in x:\n",
    "    if i == 2:\n",
    "        count += 1\n",
    "print(count)"
   ]
  },
  {
   "cell_type": "code",
   "execution_count": null,
   "id": "62d1e93e-1132-46ad-bf65-edba1dbf8d49",
   "metadata": {},
   "outputs": [],
   "source": [
    "# Q21] Write a code to find the index of the element \"cat\" in the tuple ('dog', 'cat', 'rabbit')?\n",
    "x = ('dog','cat','rabbit')\n",
    "for i in x:\n",
    "    if (i == \"cat\"):\n",
    "        print()"
   ]
  },
  {
   "cell_type": "code",
   "execution_count": 113,
   "id": "d14a8ab5-f1ea-424b-bd86-f33addf81e4c",
   "metadata": {},
   "outputs": [
    {
     "name": "stdout",
     "output_type": "stream",
     "text": [
      "'banana' is present in the tuple\n"
     ]
    }
   ],
   "source": [
    "# Q22] Write a code to check if the element \"banana\" is in the tuple ('apple', 'orange', 'banana')?\n",
    "x = ('apple', 'orange', 'banana') #CASE 1: when the asked element is present in tuple.\n",
    "for i in x:\n",
    "    if(i == 'banana'):\n",
    "        print(\"'banana' is present in the tuple\")\n",
    "        break\n",
    "else: \n",
    "    print(\"'banana' is not present in the tuple\")"
   ]
  },
  {
   "cell_type": "code",
   "execution_count": 115,
   "id": "30e2aa52-6b48-4a3c-bdbe-508a7ccfc635",
   "metadata": {},
   "outputs": [
    {
     "name": "stdout",
     "output_type": "stream",
     "text": [
      "'banana' is not present in the tuple\n"
     ]
    }
   ],
   "source": [
    "x = ('apple', 'orange', 'mango') #CASE 2: when the asked element is not present in the tuple.\n",
    "for i in x:\n",
    "    if(i == ''):\n",
    "        print(\"'banana' is present in the tuple\")\n",
    "        break\n",
    "else: \n",
    "    print(\"'banana' is not present in the tuple\")"
   ]
  },
  {
   "cell_type": "code",
   "execution_count": 119,
   "id": "5934d8fd-947c-4e4b-bc6e-c76514051743",
   "metadata": {},
   "outputs": [
    {
     "name": "stdout",
     "output_type": "stream",
     "text": [
      "Set -: {1, 2, 3, 4, 5}\n"
     ]
    }
   ],
   "source": [
    "# Q23] Write a code to create a set with the elements 1, 2, 3, 4, 5 and print it?\n",
    "s = {1, 2, 3, 4, 5}\n",
    "print(\"Set -:\", s)"
   ]
  },
  {
   "cell_type": "code",
   "execution_count": 121,
   "id": "6ec6f489-0b8b-4358-b8bd-0c0390ec9df1",
   "metadata": {},
   "outputs": [
    {
     "data": {
      "text/plain": [
       "{1, 2, 3, 4, 6}"
      ]
     },
     "execution_count": 121,
     "metadata": {},
     "output_type": "execute_result"
    }
   ],
   "source": [
    "# Q24] Write a code to add the element 6 to the set {1, 2, 3, 4}?\n",
    "s = {1, 2, 3, 4}\n",
    "s.add(6)\n",
    "s"
   ]
  }
 ],
 "metadata": {
  "kernelspec": {
   "display_name": "Python 3 (ipykernel)",
   "language": "python",
   "name": "python3"
  },
  "language_info": {
   "codemirror_mode": {
    "name": "ipython",
    "version": 3
   },
   "file_extension": ".py",
   "mimetype": "text/x-python",
   "name": "python",
   "nbconvert_exporter": "python",
   "pygments_lexer": "ipython3",
   "version": "3.12.7"
  }
 },
 "nbformat": 4,
 "nbformat_minor": 5
}
